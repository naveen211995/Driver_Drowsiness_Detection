{
 "cells": [
  {
   "cell_type": "code",
   "execution_count": 1,
   "metadata": {},
   "outputs": [
    {
     "name": "stderr",
     "output_type": "stream",
     "text": [
      "C:\\Users\\lenovo\\Anaconda3\\lib\\site-packages\\h5py\\__init__.py:36: FutureWarning: Conversion of the second argument of issubdtype from `float` to `np.floating` is deprecated. In future, it will be treated as `np.float64 == np.dtype(float).type`.\n",
      "  from ._conv import register_converters as _register_converters\n",
      "Using TensorFlow backend.\n"
     ]
    },
    {
     "name": "stdout",
     "output_type": "stream",
     "text": [
      "pygame 1.9.6\n",
      "Hello from the pygame community. https://www.pygame.org/contribute.html\n"
     ]
    }
   ],
   "source": [
    "#Importing required packages...\n",
    "import cv2, os, time\n",
    "import numpy as np\n",
    "from keras.models import load_model\n",
    "from pygame import mixer"
   ]
  },
  {
   "cell_type": "code",
   "execution_count": 2,
   "metadata": {},
   "outputs": [],
   "source": [
    "#Setting the directory to required path...\n",
    "os.chdir('C:\\\\Users\\\\lenovo\\\\Downloads\\\\Drowsiness detection')"
   ]
  },
  {
   "cell_type": "code",
   "execution_count": 3,
   "metadata": {},
   "outputs": [
    {
     "data": {
      "text/plain": [
       "'C:\\\\Users\\\\lenovo\\\\Downloads\\\\Drowsiness detection'"
      ]
     },
     "execution_count": 3,
     "metadata": {},
     "output_type": "execute_result"
    }
   ],
   "source": [
    "#Checking the current directory...\n",
    "os.getcwd()"
   ]
  },
  {
   "cell_type": "code",
   "execution_count": 4,
   "metadata": {},
   "outputs": [],
   "source": [
    "#Initiating the mixer library\n",
    "mixer.init()\n",
    "sound= mixer.Sound('alarm.wav')  #Reading the sound file and storing in object\n",
    "\n",
    "#Creating objects of different cascasde classifiers\n",
    "face= cv2.CascadeClassifier('Haar cascade files\\haarcascade_frontalface_alt.xml')\n",
    "leye= cv2.CascadeClassifier('Haar cascade files\\haarcascade_lefteye_2splits.xml')\n",
    "reye= cv2.CascadeClassifier('Haar cascade files\\haarcascade_righteye_2splits.xml')"
   ]
  },
  {
   "cell_type": "code",
   "execution_count": 5,
   "metadata": {},
   "outputs": [
    {
     "name": "stdout",
     "output_type": "stream",
     "text": [
      "WARNING:tensorflow:From C:\\Users\\lenovo\\Anaconda3\\lib\\site-packages\\tensorflow\\python\\framework\\op_def_library.py:263: colocate_with (from tensorflow.python.framework.ops) is deprecated and will be removed in a future version.\n",
      "Instructions for updating:\n",
      "Colocations handled automatically by placer.\n",
      "WARNING:tensorflow:From C:\\Users\\lenovo\\Anaconda3\\lib\\site-packages\\keras\\backend\\tensorflow_backend.py:3445: calling dropout (from tensorflow.python.ops.nn_ops) with keep_prob is deprecated and will be removed in a future version.\n",
      "Instructions for updating:\n",
      "Please use `rate` instead of `keep_prob`. Rate should be set to `rate = 1 - keep_prob`.\n",
      "WARNING:tensorflow:From C:\\Users\\lenovo\\Anaconda3\\lib\\site-packages\\tensorflow\\python\\ops\\math_ops.py:3066: to_int32 (from tensorflow.python.ops.math_ops) is deprecated and will be removed in a future version.\n",
      "Instructions for updating:\n",
      "Use tf.cast instead.\n"
     ]
    }
   ],
   "source": [
    "lbl=['Close','Open']  #Declaring lables so that we can use later to determine whether the eyes are closed or not...\n",
    "\n",
    "model= load_model('Model\\cnncat2.h5')  #Loading the pre-trained model..\n",
    "path= os.getcwd()  #Getting the path\n",
    "cap= cv2.VideoCapture(0)  #Declaring object to open our camera and capture the video.\n",
    "font= cv2.FONT_HERSHEY_COMPLEX_SMALL\n",
    "count=0\n",
    "score=0\n",
    "thicc=2\n",
    "rpred=[99]\n",
    "lpred=[99]"
   ]
  },
  {
   "cell_type": "code",
   "execution_count": 6,
   "metadata": {},
   "outputs": [],
   "source": [
    "#Writing code to detect drowsiness...\n",
    "while(True):\n",
    "    ret, frame = cap.read()  #Initializing web cam to capture video\n",
    "    height,width = frame.shape[:2]  #Setting height and width of captured frame.\n",
    "\n",
    "    gray = cv2.cvtColor(frame, cv2.COLOR_BGR2GRAY) #Converting the frame to GRAYSCALE as our model understand only Grayscale images.\n",
    "    \n",
    "    faces = face.detectMultiScale(gray,minNeighbors=5,scaleFactor=1.1,minSize=(25,25))   #Detecting Face\n",
    "    left_eye = leye.detectMultiScale(gray)  #Detecting Left eye\n",
    "    right_eye =  reye.detectMultiScale(gray)  #Detecting Right eye\n",
    "\n",
    "    cv2.rectangle(frame, (0,height-50) , (200,height) , (0,0,0) , thickness=cv2.FILLED ) #Drawing a rectangle upon the entire frame\n",
    "\n",
    "    for (x,y,w,h) in faces:\n",
    "        cv2.rectangle(frame, (x,y) , (x+w,y+h) , (100,100,100) , 1)  #Drawing a rectangle upon face whenever its detected.\n",
    "\n",
    "    for (x,y,w,h) in right_eye:   #Loop to detect Right_eye\n",
    "        r_eye=frame[y:y+h,x:x+w]  #Reading Right_eye\n",
    "        count=count+1   #Initializing count once eye is detect\n",
    "        r_eye = cv2.cvtColor(r_eye,cv2.COLOR_BGR2GRAY)  #Converting detected Right_eye to GrayScale\n",
    "        r_eye = cv2.resize(r_eye,(24,24))  #Resizing the detected Right_eye\n",
    "        r_eye= r_eye/255\n",
    "        r_eye=  r_eye.reshape(24,24,-1)  #Reshaping the detected Right_eye     \n",
    "        r_eye = np.expand_dims(r_eye,axis=0)\n",
    "        rpred = model.predict_classes(r_eye) #Predicting the class of the detected Right_eye to determine whether the eye is Closed or Open using loaded pre-trained model.\n",
    "        if(rpred[0]==1):  #Declaring the detected Right_eye as Open if model predicted as 1\n",
    "            lbl='Open' \n",
    "        if(rpred[0]==0):  #Declaring the detected Right_eye as Closed if model predicted as 0\n",
    "            lbl='Closed'\n",
    "        break\n",
    "\n",
    "    for (x,y,w,h) in left_eye:   #Loop to detect Left_eye\n",
    "        l_eye=frame[y:y+h,x:x+w]  #Reading Left_eye\n",
    "        count=count+1  #Initializing count once eye is detect\n",
    "        l_eye = cv2.cvtColor(l_eye,cv2.COLOR_BGR2GRAY) #Converting detected Left_eye to GrayScale \n",
    "        l_eye = cv2.resize(l_eye,(24,24))  #Resizing the detected Left_eye\n",
    "        l_eye= l_eye/255\n",
    "        l_eye=l_eye.reshape(24,24,-1)  #Reshaping the detected Left_eye\n",
    "        l_eye = np.expand_dims(l_eye,axis=0)\n",
    "        lpred = model.predict_classes(l_eye) #Predicting the class of the detected Left_eye to determine whether the eye is Closed or Open using loaded pre-trained model.\n",
    "        if(lpred[0]==1):  #Declaring the detected Left_eye as Open if model predicted as 1\n",
    "            lbl='Open'   \n",
    "        if(lpred[0]==0):  #Declaring the detected Left_eye as Closed if model predicted as 0\n",
    "            lbl='Closed'\n",
    "        break\n",
    "\n",
    "    if(rpred[0]==0 and lpred[0]==0): #If both the eyes are Closed then we would be increasing the score\n",
    "        score=score+1\n",
    "        cv2.putText(frame,\"Closed\",(10,height-20), font, 1,(255,255,255),1,cv2.LINE_AA) #Showing the text as Closed in the frame\n",
    "    \n",
    "    else:    #If both the eyes are Open then we would be decreasing the score\n",
    "        score=score-1\n",
    "        cv2.putText(frame,\"Open\",(10,height-20), font, 1,(255,255,255),1,cv2.LINE_AA)  #Showing the text as Open in the frame\n",
    "    \n",
    "        \n",
    "    if(score<0):\n",
    "        score=0   \n",
    "    cv2.putText(frame,'Score:'+str(score),(100,height-20), font, 1,(255,255,255),1,cv2.LINE_AA) #Showing the Score in realtime in the frame\n",
    "    if(score>8):\n",
    "        #person is feeling sleepy so we beep the alarm\n",
    "        cv2.imwrite(os.path.join(path,'image.jpg'),frame)\n",
    "        try:\n",
    "            sound.play()   #Once we reach a score>8 then we would been a sound.\n",
    "            \n",
    "        except:  #isplaying = False\n",
    "            pass\n",
    "        if(thicc<16):\n",
    "            thicc= thicc+2\n",
    "        else:\n",
    "            thicc=thicc-2\n",
    "            if(thicc<2):\n",
    "                thicc=2\n",
    "        cv2.rectangle(frame,(0,0),(width,height),(0,0,255),thicc) \n",
    "    cv2.imshow('frame',frame)\n",
    "    if cv2.waitKey(1) & 0xFF == ord('q'):\n",
    "        break\n",
    "cap.release()\n",
    "cv2.destroyAllWindows()"
   ]
  }
 ],
 "metadata": {
  "kernelspec": {
   "display_name": "Python 3",
   "language": "python",
   "name": "python3"
  },
  "language_info": {
   "codemirror_mode": {
    "name": "ipython",
    "version": 3
   },
   "file_extension": ".py",
   "mimetype": "text/x-python",
   "name": "python",
   "nbconvert_exporter": "python",
   "pygments_lexer": "ipython3",
   "version": "3.6.4"
  }
 },
 "nbformat": 4,
 "nbformat_minor": 2
}
